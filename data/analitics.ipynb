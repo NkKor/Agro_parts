{
 "cells": [
  {
   "cell_type": "code",
   "execution_count": null,
   "id": "e7fa2d7b",
   "metadata": {},
   "outputs": [],
   "source": [
    "# Ячейка 1: Импорты\n",
    "import sys\n",
    "import os\n",
    "import numpy as np\n",
    "import matplotlib.pyplot as plt\n",
    "import pandas as pd\n",
    "from PIL import Image\n",
    "import pickle\n",
    "\n",
    "# Настройка путей\n",
    "current_dir = os.path.dirname(os.getcwd())\n",
    "sys.path.append(current_dir)\n",
    "\n",
    "# Импорты из проекта\n",
    "from datasets.dataset import PartsDataset, val_transforms"
   ]
  },
  {
   "cell_type": "code",
   "execution_count": null,
   "id": "c2821936",
   "metadata": {},
   "outputs": [],
   "source": [
    "# Ячейка 2: Анализ датасета\n",
    "# Загрузка данных\n",
    "dataset = PartsDataset(root_dir='../data/123', transform=val_transforms)\n",
    "\n",
    "print(f\"Общее количество изображений: {len(dataset)}\")\n",
    "print(f\"Количество классов: {len(dataset.label_to_idx)}\")\n",
    "\n",
    "# Распределение изображений по классам\n",
    "class_counts = {}\n",
    "for i in range(len(dataset)):\n",
    "    _, label, _ = dataset[i]\n",
    "    class_name = dataset.idx_to_label[label]\n",
    "    class_counts[class_name] = class_counts.get(class_name, 0) + 1\n",
    "\n",
    "print(\"\\nРаспределение по классам:\")\n",
    "for class_name, count in sorted(class_counts.items(), key=lambda x: x[1], reverse=True):\n",
    "    print(f\"{class_name}: {count} изображений\")"
   ]
  },
  {
   "cell_type": "code",
   "execution_count": null,
   "id": "d1e9f35f",
   "metadata": {},
   "outputs": [],
   "source": [
    "# Ячейка 3: Визуализация данных\n",
    "# Показать случайные изображения из разных классов\n",
    "fig, axes = plt.subplots(3, 5, figsize=(15, 10))\n",
    "axes = axes.ravel()\n",
    "\n",
    "for i in range(15):\n",
    "    idx = np.random.randint(0, len(dataset))\n",
    "    image, label, img_path = dataset[idx]\n",
    "    \n",
    "    # Конвертируем тензор обратно в изображение\n",
    "    image_np = image.permute(1, 2, 0).numpy()\n",
    "    image_np = np.clip(image_np, 0, 1)\n",
    "    \n",
    "    axes[i].imshow(image_np)\n",
    "    axes[i].set_title(f\"Class: {dataset.idx_to_label[label]}\")\n",
    "    axes[i].axis('off')\n",
    "\n",
    "plt.tight_layout()\n",
    "plt.show()"
   ]
  },
  {
   "cell_type": "code",
   "execution_count": null,
   "id": "e50b460a",
   "metadata": {},
   "outputs": [],
   "source": [
    "# Ячейка 4: Анализ эмбеддингов\n",
    "# Загрузка эмбеддингов\n",
    "embeddings = np.load('../embeddings/embeddings.npy')\n",
    "labels = np.load('../embeddings/labels.npy')\n",
    "\n",
    "print(f\"Форма эмбеддингов: {embeddings.shape}\")\n",
    "print(f\"Форма меток: {labels.shape}\")\n",
    "\n",
    "# Статистика эмбеддингов\n",
    "print(f\"\\nСтатистика эмбеддингов:\")\n",
    "print(f\"Среднее значение: {np.mean(embeddings):.4f}\")\n",
    "print(f\"Стандартное отклонение: {np.std(embeddings):.4f}\")\n",
    "print(f\"Минимальное значение: {np.min(embeddings):.4f}\")\n",
    "print(f\"Максимальное значение: {np.max(embeddings):.4f}\")"
   ]
  }
 ],
 "metadata": {
  "kernelspec": {
   "display_name": ".venv",
   "language": "python",
   "name": "python3"
  },
  "language_info": {
   "name": "python",
   "version": "3.10.11"
  }
 },
 "nbformat": 4,
 "nbformat_minor": 5
}
